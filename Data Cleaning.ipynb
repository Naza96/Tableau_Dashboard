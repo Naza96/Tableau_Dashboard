{
 "cells": [
  {
   "cell_type": "code",
   "execution_count": 11,
   "id": "976f5a5c",
   "metadata": {},
   "outputs": [],
   "source": [
    "import pandas as pd\n",
    "import openpyxl\n"
   ]
  },
  {
   "cell_type": "code",
   "execution_count": 86,
   "id": "5b087b88",
   "metadata": {},
   "outputs": [],
   "source": [
    "# Import raw data\n",
    "df = pd.read_excel('Leading_causes_of_death_since1999(raw).xlsx', engine='openpyxl')"
   ]
  },
  {
   "cell_type": "code",
   "execution_count": 95,
   "id": "971102f1",
   "metadata": {},
   "outputs": [],
   "source": [
    "# Compute the unknown causes of death\n",
    "residuals=df[(df['State']!='United States') & (df['Cause ID']!=1111)]\n",
    "totals=df[(df['State']!='United States') & (df['Cause ID']==1111)]\n",
    "residuals_t = residuals.groupby(['Year', 'State'])['Deaths'].sum().reset_index()\n",
    "totals_t = totals.groupby(['Year', 'State'])['Deaths'].sum().reset_index()"
   ]
  },
  {
   "cell_type": "code",
   "execution_count": 98,
   "id": "49767dc1",
   "metadata": {
    "collapsed": true
   },
   "outputs": [
    {
     "name": "stderr",
     "output_type": "stream",
     "text": [
      "C:\\Users\\Acer\\AppData\\Local\\Temp\\ipykernel_10308\\2703684158.py:6: SettingWithCopyWarning: \n",
      "A value is trying to be set on a copy of a slice from a DataFrame.\n",
      "Try using .loc[row_indexer,col_indexer] = value instead\n",
      "\n",
      "See the caveats in the documentation: https://pandas.pydata.org/pandas-docs/stable/user_guide/indexing.html#returning-a-view-versus-a-copy\n",
      "  df_Cy['Cause ID'] = 'Unknown'\n",
      "C:\\Users\\Acer\\AppData\\Local\\Temp\\ipykernel_10308\\2703684158.py:7: SettingWithCopyWarning: \n",
      "A value is trying to be set on a copy of a slice from a DataFrame.\n",
      "Try using .loc[row_indexer,col_indexer] = value instead\n",
      "\n",
      "See the caveats in the documentation: https://pandas.pydata.org/pandas-docs/stable/user_guide/indexing.html#returning-a-view-versus-a-copy\n",
      "  df_Cy['State'], df_Cy['Deaths'] = df_C['State'], df_C['Deaths']\n"
     ]
    },
    {
     "data": {
      "text/html": [
       "<div>\n",
       "<style scoped>\n",
       "    .dataframe tbody tr th:only-of-type {\n",
       "        vertical-align: middle;\n",
       "    }\n",
       "\n",
       "    .dataframe tbody tr th {\n",
       "        vertical-align: top;\n",
       "    }\n",
       "\n",
       "    .dataframe thead th {\n",
       "        text-align: right;\n",
       "    }\n",
       "</style>\n",
       "<table border=\"1\" class=\"dataframe\">\n",
       "  <thead>\n",
       "    <tr style=\"text-align: right;\">\n",
       "      <th></th>\n",
       "      <th>Year</th>\n",
       "      <th>Cause ID</th>\n",
       "      <th>State</th>\n",
       "      <th>Deaths</th>\n",
       "    </tr>\n",
       "  </thead>\n",
       "  <tbody>\n",
       "    <tr>\n",
       "      <th>0</th>\n",
       "      <td>1999</td>\n",
       "      <td>Unknown</td>\n",
       "      <td>Alabama</td>\n",
       "      <td>9366</td>\n",
       "    </tr>\n",
       "    <tr>\n",
       "      <th>1</th>\n",
       "      <td>1999</td>\n",
       "      <td>Unknown</td>\n",
       "      <td>Alaska</td>\n",
       "      <td>634</td>\n",
       "    </tr>\n",
       "    <tr>\n",
       "      <th>2</th>\n",
       "      <td>1999</td>\n",
       "      <td>Unknown</td>\n",
       "      <td>Arizona</td>\n",
       "      <td>8254</td>\n",
       "    </tr>\n",
       "    <tr>\n",
       "      <th>3</th>\n",
       "      <td>1999</td>\n",
       "      <td>Unknown</td>\n",
       "      <td>Arkansas</td>\n",
       "      <td>5913</td>\n",
       "    </tr>\n",
       "    <tr>\n",
       "      <th>4</th>\n",
       "      <td>1999</td>\n",
       "      <td>Unknown</td>\n",
       "      <td>California</td>\n",
       "      <td>43227</td>\n",
       "    </tr>\n",
       "    <tr>\n",
       "      <th>...</th>\n",
       "      <td>...</td>\n",
       "      <td>...</td>\n",
       "      <td>...</td>\n",
       "      <td>...</td>\n",
       "    </tr>\n",
       "    <tr>\n",
       "      <th>913</th>\n",
       "      <td>2016</td>\n",
       "      <td>Unknown</td>\n",
       "      <td>Virginia</td>\n",
       "      <td>18521</td>\n",
       "    </tr>\n",
       "    <tr>\n",
       "      <th>914</th>\n",
       "      <td>2016</td>\n",
       "      <td>Unknown</td>\n",
       "      <td>Washington</td>\n",
       "      <td>14417</td>\n",
       "    </tr>\n",
       "    <tr>\n",
       "      <th>915</th>\n",
       "      <td>2016</td>\n",
       "      <td>Unknown</td>\n",
       "      <td>West Virginia</td>\n",
       "      <td>6051</td>\n",
       "    </tr>\n",
       "    <tr>\n",
       "      <th>916</th>\n",
       "      <td>2016</td>\n",
       "      <td>Unknown</td>\n",
       "      <td>Wisconsin</td>\n",
       "      <td>13539</td>\n",
       "    </tr>\n",
       "    <tr>\n",
       "      <th>917</th>\n",
       "      <td>2016</td>\n",
       "      <td>Unknown</td>\n",
       "      <td>Wyoming</td>\n",
       "      <td>1244</td>\n",
       "    </tr>\n",
       "  </tbody>\n",
       "</table>\n",
       "<p>918 rows × 4 columns</p>\n",
       "</div>"
      ],
      "text/plain": [
       "     Year Cause ID          State  Deaths\n",
       "0    1999  Unknown        Alabama    9366\n",
       "1    1999  Unknown         Alaska     634\n",
       "2    1999  Unknown        Arizona    8254\n",
       "3    1999  Unknown       Arkansas    5913\n",
       "4    1999  Unknown     California   43227\n",
       "..    ...      ...            ...     ...\n",
       "913  2016  Unknown       Virginia   18521\n",
       "914  2016  Unknown     Washington   14417\n",
       "915  2016  Unknown  West Virginia    6051\n",
       "916  2016  Unknown      Wisconsin   13539\n",
       "917  2016  Unknown        Wyoming    1244\n",
       "\n",
       "[918 rows x 4 columns]"
      ]
     },
     "execution_count": 98,
     "metadata": {},
     "output_type": "execute_result"
    }
   ],
   "source": [
    "#Append the unknown causes of death\n",
    "df_C = residuals_t[['Year', 'State']]\n",
    "df_C['Deaths'] = totals_t['Deaths'] - residuals_t['Deaths']\n",
    "df_C['CauseID']  = 'Unknown'\n",
    "df_Cy = df_C[['Year']]\n",
    "df_Cy['Cause ID'] = 'Unknown'\n",
    "df_Cy['State'], df_Cy['Deaths'] = df_C['State'], df_C['Deaths']\n",
    "df_Cy\n"
   ]
  },
  {
   "cell_type": "code",
   "execution_count": 114,
   "id": "2672b347",
   "metadata": {},
   "outputs": [],
   "source": [
    "#Save clean file\n",
    "result_df.to_excel('Leading_causes_of_death_since1999.xlsx', index=False)"
   ]
  }
 ],
 "metadata": {
  "kernelspec": {
   "display_name": "Python 3 (ipykernel)",
   "language": "python",
   "name": "python3"
  },
  "language_info": {
   "codemirror_mode": {
    "name": "ipython",
    "version": 3
   },
   "file_extension": ".py",
   "mimetype": "text/x-python",
   "name": "python",
   "nbconvert_exporter": "python",
   "pygments_lexer": "ipython3",
   "version": "3.9.13"
  }
 },
 "nbformat": 4,
 "nbformat_minor": 5
}
